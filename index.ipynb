{
  "cells": [
    {
      "cell_type": "markdown",
      "metadata": {
        "id": "gRmF4TH_u2Af"
      },
      "source": [
        "# Hypothesis Testing - Cumulative Lab\n",
        "\n",
        "## Introduction\n",
        "\n",
        "In this cumulative lab, you will use pandas to clean up a dataset and perform some EDA, then perform statistical tests and interpret their results in order to answer some business questions.\n",
        "\n",
        "## Objectives\n",
        "\n",
        "You will be able to:\n",
        "\n",
        "* Practice using a data dictionary\n",
        "* Practice using pandas to prepare data for statistical analysis\n",
        "* Practice identifying an appropriate statistical test for a given question\n",
        "* Practice defining the null and alternative hypotheses\n",
        "* Practice executing statistical tests and interpreting their results"
      ]
    },
    {
      "cell_type": "markdown",
      "metadata": {
        "id": "yYbgwIl2u2Aj"
      },
      "source": [
        "## Your Task: Analyzing Health Trends\n",
        "\n",
        "![tissues and tea mug](images/sick_day.jpg)\n",
        "\n",
        "Photo by <a href=\"https://unsplash.com/@kellysikkema?utm_source=unsplash&utm_medium=referral&utm_content=creditCopyText\">Kelly Sikkema</a> on <a href=\"/?utm_source=unsplash&utm_medium=referral&utm_content=creditCopyText\">Unsplash</a>"
      ]
    },
    {
      "cell_type": "markdown",
      "metadata": {
        "id": "8wNjdnX6u2Ak"
      },
      "source": [
        "### Business Understanding\n",
        "\n",
        "Flatiron Health Insurance (FHI) is a growing private healthcare insurance provider founded on the premise that using data and analytics can improve the health insurance industry by providing better care and offerings to its patients. Every year, the Center for Disease Control (CDC) conducts surveys to understand the latest demographic, health, and fitness trends. You have been tasked with analyzing the recently published results of the 2017-2018 survey and providing your recommendations back to the Chief Analytics Officer and Chief Marketing Officer. You have been assigned the task of taking a first look at the data and beginning to answer several key questions:\n",
        "\n",
        "1. How does health status, represented by average number of days with bad physical health in the past month (`PHYSHLTH`), differ by state?\n",
        "2. Digging deeper into the data, what are some factors that impact health (demographics, behaviors, etc.)?\n",
        "\n",
        "### Data Understanding\n",
        "\n",
        "To get you started, the IT department formatted the data set into a tab delimited text file for only NY, NJ, and CT (FHI’s primary markets) called `case_study.csv`.\n",
        "\n",
        "There is also a PDF data dictionary called `data_dictionary.pdf`, which explains the meanings of the features and codes contained in this dataset.\n",
        "\n",
        "Both files are located in the `data/` directory of this repository.\n",
        "\n",
        "Prior to each statistical test, you will need to perform some data preparation, which could include:\n",
        "\n",
        "* Filtering out rows with irrelevant values\n",
        "* Transforming data from codes into human-readable values\n",
        "* Binning data to transform it from numeric to categorical\n",
        "* Creating new columns based on queries of the values in other columns\n",
        "\n",
        "For steps 2-5, you will need to select and execute an appropriate statistical test. Recall these tests we have learned so far:\n",
        "\n",
        "1. [Chi-squared test](https://docs.scipy.org/doc/scipy/reference/generated/scipy.stats.chi2_contingency.html): used for comparing a categorical feature against a categorical feature, to determine whether they are independent\n",
        "2. [t-test](https://docs.scipy.org/doc/scipy/reference/generated/scipy.stats.ttest_ind.html): used for comparing two categories of a numeric feature, to determine whether their means are the same across categories\n",
        "3. [ANOVA](https://www.statsmodels.org/stable/generated/statsmodels.stats.anova.anova_lm.html#statsmodels.stats.anova.anova_lm): used for comparing more than two categories of a numeric feature, to determine whether their means are the same across categories"
      ]
    },
    {
      "cell_type": "markdown",
      "metadata": {
        "id": "LlLwQ-5xu2Al"
      },
      "source": [
        "### Requirements\n",
        "\n",
        "#### 1. Prepare `PHYSHLTH` Data for Analysis\n",
        "\n",
        "Using the data dictionary, ensure that you understand the meaning of the `PHYSHLTH` column. Then clean the data so that only valid records of `PHYSHLTH` remain.\n",
        "\n",
        "#### 2. Describe the Distribution of Health Status by State\n",
        "\n",
        "Does health status (`PHYSHLTH`) differ by state (`STATE_`)? If so, by how much, and is it statistically significant?\n",
        "\n",
        "#### 3. Describe the Relationship between Health Status and Home Ownership Status\n",
        "\n",
        "Does health status (`PHYSHLTH`) differ between home owners and renters (`RENTHOM1`)? If so, by how much, and is it statistically significant?\n",
        "\n",
        "#### 4. Describe the Relationship between Chronic Sickness and Nicotine Use\n",
        "\n",
        "Does chronic sickness (`PHYSHLTH >= 15`) differ based on nicotine use (various columns)? If so, by how much, and is it statistically significant?\n",
        "\n",
        "#### 5. Choose Your Own Question\n",
        "\n",
        "Thinking about the business case, what is another question that might be useful to answer? Perform all analysis steps to answer this question."
      ]
    },
    {
      "cell_type": "markdown",
      "metadata": {
        "id": "7RJclzGyu2An"
      },
      "source": [
        "## 1. Prepare `PHYSHLTH` Data for Analysis\n",
        "\n",
        "In the cells below, we include the relevant imports and load the data into a dataframe called `df`:"
      ]
    },
    {
      "cell_type": "code",
      "execution_count": 4,
      "metadata": {
        "id": "WNveIaL6u2An"
      },
      "outputs": [],
      "source": [
        "# Run this cell without changes\n",
        "import pandas as pd\n",
        "import matplotlib.pyplot as plt\n",
        "import numpy as np\n",
        "%matplotlib inline"
      ]
    },
    {
      "cell_type": "code",
      "execution_count": 5,
      "metadata": {
        "colab": {
          "base_uri": "https://localhost:8080/",
          "height": 444
        },
        "id": "t0akUSPtu2Ap",
        "outputId": "5438989a-20ff-48b3-da84-9b91f0b78920"
      },
      "outputs": [
        {
          "name": "stderr",
          "output_type": "stream",
          "text": [
            "<>:2: SyntaxWarning: invalid escape sequence '\\c'\n",
            "<>:2: SyntaxWarning: invalid escape sequence '\\c'\n",
            "C:\\Users\\HP\\AppData\\Local\\Temp\\ipykernel_20328\\2962101442.py:2: SyntaxWarning: invalid escape sequence '\\c'\n",
            "  df = pd.read_csv(\"data\\case_study.csv\", index_col=0, low_memory=False)\n"
          ]
        },
        {
          "data": {
            "text/html": [
              "<div>\n",
              "<style scoped>\n",
              "    .dataframe tbody tr th:only-of-type {\n",
              "        vertical-align: middle;\n",
              "    }\n",
              "\n",
              "    .dataframe tbody tr th {\n",
              "        vertical-align: top;\n",
              "    }\n",
              "\n",
              "    .dataframe thead th {\n",
              "        text-align: right;\n",
              "    }\n",
              "</style>\n",
              "<table border=\"1\" class=\"dataframe\">\n",
              "  <thead>\n",
              "    <tr style=\"text-align: right;\">\n",
              "      <th></th>\n",
              "      <th>_STATE</th>\n",
              "      <th>FMONTH</th>\n",
              "      <th>IDATE</th>\n",
              "      <th>IMONTH</th>\n",
              "      <th>IDAY</th>\n",
              "      <th>IYEAR</th>\n",
              "      <th>DISPCODE</th>\n",
              "      <th>SEQNO</th>\n",
              "      <th>_PSU</th>\n",
              "      <th>CTELENM1</th>\n",
              "      <th>...</th>\n",
              "      <th>_PA300R2</th>\n",
              "      <th>_PA30021</th>\n",
              "      <th>_PASTRNG</th>\n",
              "      <th>_PAREC1</th>\n",
              "      <th>_PASTAE1</th>\n",
              "      <th>_RFSEAT2</th>\n",
              "      <th>_RFSEAT3</th>\n",
              "      <th>_FLSHOT6</th>\n",
              "      <th>_PNEUMO2</th>\n",
              "      <th>_AIDTST3</th>\n",
              "    </tr>\n",
              "  </thead>\n",
              "  <tbody>\n",
              "    <tr>\n",
              "      <th>49938</th>\n",
              "      <td>9.0</td>\n",
              "      <td>5.0</td>\n",
              "      <td>5172017</td>\n",
              "      <td>5</td>\n",
              "      <td>17</td>\n",
              "      <td>2017</td>\n",
              "      <td>1200.0</td>\n",
              "      <td>2017000001</td>\n",
              "      <td>2.017000e+09</td>\n",
              "      <td>NaN</td>\n",
              "      <td>...</td>\n",
              "      <td>2.0</td>\n",
              "      <td>2.0</td>\n",
              "      <td>2.0</td>\n",
              "      <td>4.0</td>\n",
              "      <td>2.0</td>\n",
              "      <td>1.0</td>\n",
              "      <td>1.0</td>\n",
              "      <td>NaN</td>\n",
              "      <td>NaN</td>\n",
              "      <td>1.0</td>\n",
              "    </tr>\n",
              "    <tr>\n",
              "      <th>49939</th>\n",
              "      <td>9.0</td>\n",
              "      <td>2.0</td>\n",
              "      <td>2142017</td>\n",
              "      <td>2</td>\n",
              "      <td>14</td>\n",
              "      <td>2017</td>\n",
              "      <td>1200.0</td>\n",
              "      <td>2017000002</td>\n",
              "      <td>2.017000e+09</td>\n",
              "      <td>NaN</td>\n",
              "      <td>...</td>\n",
              "      <td>1.0</td>\n",
              "      <td>1.0</td>\n",
              "      <td>1.0</td>\n",
              "      <td>1.0</td>\n",
              "      <td>1.0</td>\n",
              "      <td>2.0</td>\n",
              "      <td>2.0</td>\n",
              "      <td>NaN</td>\n",
              "      <td>NaN</td>\n",
              "      <td>2.0</td>\n",
              "    </tr>\n",
              "    <tr>\n",
              "      <th>49940</th>\n",
              "      <td>9.0</td>\n",
              "      <td>1.0</td>\n",
              "      <td>1292017</td>\n",
              "      <td>1</td>\n",
              "      <td>29</td>\n",
              "      <td>2017</td>\n",
              "      <td>1200.0</td>\n",
              "      <td>2017000003</td>\n",
              "      <td>2.017000e+09</td>\n",
              "      <td>NaN</td>\n",
              "      <td>...</td>\n",
              "      <td>3.0</td>\n",
              "      <td>2.0</td>\n",
              "      <td>1.0</td>\n",
              "      <td>3.0</td>\n",
              "      <td>2.0</td>\n",
              "      <td>1.0</td>\n",
              "      <td>1.0</td>\n",
              "      <td>NaN</td>\n",
              "      <td>NaN</td>\n",
              "      <td>2.0</td>\n",
              "    </tr>\n",
              "    <tr>\n",
              "      <th>49941</th>\n",
              "      <td>9.0</td>\n",
              "      <td>7.0</td>\n",
              "      <td>9112017</td>\n",
              "      <td>9</td>\n",
              "      <td>11</td>\n",
              "      <td>2017</td>\n",
              "      <td>1200.0</td>\n",
              "      <td>2017000004</td>\n",
              "      <td>2.017000e+09</td>\n",
              "      <td>NaN</td>\n",
              "      <td>...</td>\n",
              "      <td>2.0</td>\n",
              "      <td>2.0</td>\n",
              "      <td>2.0</td>\n",
              "      <td>2.0</td>\n",
              "      <td>2.0</td>\n",
              "      <td>1.0</td>\n",
              "      <td>1.0</td>\n",
              "      <td>NaN</td>\n",
              "      <td>NaN</td>\n",
              "      <td>1.0</td>\n",
              "    </tr>\n",
              "    <tr>\n",
              "      <th>49942</th>\n",
              "      <td>9.0</td>\n",
              "      <td>5.0</td>\n",
              "      <td>7182017</td>\n",
              "      <td>7</td>\n",
              "      <td>18</td>\n",
              "      <td>2017</td>\n",
              "      <td>1200.0</td>\n",
              "      <td>2017000005</td>\n",
              "      <td>2.017000e+09</td>\n",
              "      <td>NaN</td>\n",
              "      <td>...</td>\n",
              "      <td>2.0</td>\n",
              "      <td>2.0</td>\n",
              "      <td>1.0</td>\n",
              "      <td>1.0</td>\n",
              "      <td>1.0</td>\n",
              "      <td>1.0</td>\n",
              "      <td>1.0</td>\n",
              "      <td>NaN</td>\n",
              "      <td>NaN</td>\n",
              "      <td>2.0</td>\n",
              "    </tr>\n",
              "    <tr>\n",
              "      <th>...</th>\n",
              "      <td>...</td>\n",
              "      <td>...</td>\n",
              "      <td>...</td>\n",
              "      <td>...</td>\n",
              "      <td>...</td>\n",
              "      <td>...</td>\n",
              "      <td>...</td>\n",
              "      <td>...</td>\n",
              "      <td>...</td>\n",
              "      <td>...</td>\n",
              "      <td>...</td>\n",
              "      <td>...</td>\n",
              "      <td>...</td>\n",
              "      <td>...</td>\n",
              "      <td>...</td>\n",
              "      <td>...</td>\n",
              "      <td>...</td>\n",
              "      <td>...</td>\n",
              "      <td>...</td>\n",
              "      <td>...</td>\n",
              "      <td>...</td>\n",
              "    </tr>\n",
              "    <tr>\n",
              "      <th>303774</th>\n",
              "      <td>36.0</td>\n",
              "      <td>5.0</td>\n",
              "      <td>5152017</td>\n",
              "      <td>5</td>\n",
              "      <td>15</td>\n",
              "      <td>2017</td>\n",
              "      <td>1200.0</td>\n",
              "      <td>2017012245</td>\n",
              "      <td>2.017012e+09</td>\n",
              "      <td>NaN</td>\n",
              "      <td>...</td>\n",
              "      <td>3.0</td>\n",
              "      <td>2.0</td>\n",
              "      <td>2.0</td>\n",
              "      <td>4.0</td>\n",
              "      <td>2.0</td>\n",
              "      <td>1.0</td>\n",
              "      <td>1.0</td>\n",
              "      <td>NaN</td>\n",
              "      <td>NaN</td>\n",
              "      <td>1.0</td>\n",
              "    </tr>\n",
              "    <tr>\n",
              "      <th>303775</th>\n",
              "      <td>36.0</td>\n",
              "      <td>6.0</td>\n",
              "      <td>6252017</td>\n",
              "      <td>6</td>\n",
              "      <td>25</td>\n",
              "      <td>2017</td>\n",
              "      <td>1200.0</td>\n",
              "      <td>2017012246</td>\n",
              "      <td>2.017012e+09</td>\n",
              "      <td>NaN</td>\n",
              "      <td>...</td>\n",
              "      <td>2.0</td>\n",
              "      <td>2.0</td>\n",
              "      <td>2.0</td>\n",
              "      <td>4.0</td>\n",
              "      <td>2.0</td>\n",
              "      <td>1.0</td>\n",
              "      <td>1.0</td>\n",
              "      <td>NaN</td>\n",
              "      <td>NaN</td>\n",
              "      <td>1.0</td>\n",
              "    </tr>\n",
              "    <tr>\n",
              "      <th>303776</th>\n",
              "      <td>36.0</td>\n",
              "      <td>7.0</td>\n",
              "      <td>7212017</td>\n",
              "      <td>7</td>\n",
              "      <td>21</td>\n",
              "      <td>2017</td>\n",
              "      <td>1200.0</td>\n",
              "      <td>2017012247</td>\n",
              "      <td>2.017012e+09</td>\n",
              "      <td>NaN</td>\n",
              "      <td>...</td>\n",
              "      <td>2.0</td>\n",
              "      <td>2.0</td>\n",
              "      <td>2.0</td>\n",
              "      <td>4.0</td>\n",
              "      <td>2.0</td>\n",
              "      <td>1.0</td>\n",
              "      <td>1.0</td>\n",
              "      <td>NaN</td>\n",
              "      <td>NaN</td>\n",
              "      <td>1.0</td>\n",
              "    </tr>\n",
              "    <tr>\n",
              "      <th>303777</th>\n",
              "      <td>36.0</td>\n",
              "      <td>7.0</td>\n",
              "      <td>7202017</td>\n",
              "      <td>7</td>\n",
              "      <td>20</td>\n",
              "      <td>2017</td>\n",
              "      <td>1200.0</td>\n",
              "      <td>2017012248</td>\n",
              "      <td>2.017012e+09</td>\n",
              "      <td>NaN</td>\n",
              "      <td>...</td>\n",
              "      <td>9.0</td>\n",
              "      <td>9.0</td>\n",
              "      <td>9.0</td>\n",
              "      <td>9.0</td>\n",
              "      <td>9.0</td>\n",
              "      <td>9.0</td>\n",
              "      <td>9.0</td>\n",
              "      <td>9.0</td>\n",
              "      <td>9.0</td>\n",
              "      <td>9.0</td>\n",
              "    </tr>\n",
              "    <tr>\n",
              "      <th>303778</th>\n",
              "      <td>36.0</td>\n",
              "      <td>7.0</td>\n",
              "      <td>7252017</td>\n",
              "      <td>7</td>\n",
              "      <td>25</td>\n",
              "      <td>2017</td>\n",
              "      <td>1200.0</td>\n",
              "      <td>2017012249</td>\n",
              "      <td>2.017012e+09</td>\n",
              "      <td>NaN</td>\n",
              "      <td>...</td>\n",
              "      <td>3.0</td>\n",
              "      <td>2.0</td>\n",
              "      <td>2.0</td>\n",
              "      <td>4.0</td>\n",
              "      <td>2.0</td>\n",
              "      <td>1.0</td>\n",
              "      <td>1.0</td>\n",
              "      <td>NaN</td>\n",
              "      <td>NaN</td>\n",
              "      <td>1.0</td>\n",
              "    </tr>\n",
              "  </tbody>\n",
              "</table>\n",
              "<p>34545 rows × 358 columns</p>\n",
              "</div>"
            ],
            "text/plain": [
              "        _STATE  FMONTH    IDATE  IMONTH  IDAY  IYEAR  DISPCODE       SEQNO  \\\n",
              "49938      9.0     5.0  5172017       5    17   2017    1200.0  2017000001   \n",
              "49939      9.0     2.0  2142017       2    14   2017    1200.0  2017000002   \n",
              "49940      9.0     1.0  1292017       1    29   2017    1200.0  2017000003   \n",
              "49941      9.0     7.0  9112017       9    11   2017    1200.0  2017000004   \n",
              "49942      9.0     5.0  7182017       7    18   2017    1200.0  2017000005   \n",
              "...        ...     ...      ...     ...   ...    ...       ...         ...   \n",
              "303774    36.0     5.0  5152017       5    15   2017    1200.0  2017012245   \n",
              "303775    36.0     6.0  6252017       6    25   2017    1200.0  2017012246   \n",
              "303776    36.0     7.0  7212017       7    21   2017    1200.0  2017012247   \n",
              "303777    36.0     7.0  7202017       7    20   2017    1200.0  2017012248   \n",
              "303778    36.0     7.0  7252017       7    25   2017    1200.0  2017012249   \n",
              "\n",
              "                _PSU  CTELENM1  ...  _PA300R2  _PA30021  _PASTRNG  _PAREC1  \\\n",
              "49938   2.017000e+09       NaN  ...       2.0       2.0       2.0      4.0   \n",
              "49939   2.017000e+09       NaN  ...       1.0       1.0       1.0      1.0   \n",
              "49940   2.017000e+09       NaN  ...       3.0       2.0       1.0      3.0   \n",
              "49941   2.017000e+09       NaN  ...       2.0       2.0       2.0      2.0   \n",
              "49942   2.017000e+09       NaN  ...       2.0       2.0       1.0      1.0   \n",
              "...              ...       ...  ...       ...       ...       ...      ...   \n",
              "303774  2.017012e+09       NaN  ...       3.0       2.0       2.0      4.0   \n",
              "303775  2.017012e+09       NaN  ...       2.0       2.0       2.0      4.0   \n",
              "303776  2.017012e+09       NaN  ...       2.0       2.0       2.0      4.0   \n",
              "303777  2.017012e+09       NaN  ...       9.0       9.0       9.0      9.0   \n",
              "303778  2.017012e+09       NaN  ...       3.0       2.0       2.0      4.0   \n",
              "\n",
              "        _PASTAE1  _RFSEAT2  _RFSEAT3  _FLSHOT6  _PNEUMO2  _AIDTST3  \n",
              "49938        2.0       1.0       1.0       NaN       NaN       1.0  \n",
              "49939        1.0       2.0       2.0       NaN       NaN       2.0  \n",
              "49940        2.0       1.0       1.0       NaN       NaN       2.0  \n",
              "49941        2.0       1.0       1.0       NaN       NaN       1.0  \n",
              "49942        1.0       1.0       1.0       NaN       NaN       2.0  \n",
              "...          ...       ...       ...       ...       ...       ...  \n",
              "303774       2.0       1.0       1.0       NaN       NaN       1.0  \n",
              "303775       2.0       1.0       1.0       NaN       NaN       1.0  \n",
              "303776       2.0       1.0       1.0       NaN       NaN       1.0  \n",
              "303777       9.0       9.0       9.0       9.0       9.0       9.0  \n",
              "303778       2.0       1.0       1.0       NaN       NaN       1.0  \n",
              "\n",
              "[34545 rows x 358 columns]"
            ]
          },
          "execution_count": 5,
          "metadata": {},
          "output_type": "execute_result"
        }
      ],
      "source": [
        "# Run this cell without changes\n",
        "df = pd.read_csv(\"data\\case_study.csv\", index_col=0, low_memory=False)\n",
        "df"
      ]
    },
    {
      "cell_type": "markdown",
      "metadata": {
        "id": "Ax_dTlznu2Ap"
      },
      "source": [
        "Our main column of interest is called `PHYSHLTH`. We display summary statistics and plot a distribution below:"
      ]
    },
    {
      "cell_type": "code",
      "execution_count": 6,
      "metadata": {
        "colab": {
          "base_uri": "https://localhost:8080/",
          "height": 335
        },
        "id": "Aq0sIhM6u2Aq",
        "outputId": "1b0dd34b-5d4d-459c-9d8f-6a8bcc658e2b"
      },
      "outputs": [
        {
          "data": {
            "text/plain": [
              "count    34545.000000\n",
              "mean        60.213403\n",
              "std         37.504566\n",
              "min          1.000000\n",
              "25%         15.000000\n",
              "50%         88.000000\n",
              "75%         88.000000\n",
              "max         99.000000\n",
              "Name: PHYSHLTH, dtype: float64"
            ]
          },
          "execution_count": 6,
          "metadata": {},
          "output_type": "execute_result"
        }
      ],
      "source": [
        "# Run this cell without changes\n",
        "df['PHYSHLTH'].describe()"
      ]
    },
    {
      "cell_type": "code",
      "execution_count": 7,
      "metadata": {
        "colab": {
          "base_uri": "https://localhost:8080/",
          "height": 472
        },
        "id": "fFffiLRmu2As",
        "outputId": "b9929910-c382-4317-c946-3ae0665cc478"
      },
      "outputs": [
        {
          "data": {
            "image/png": "[encoded data removed]",
            "text/plain": [
              "<Figure size 640x480 with 1 Axes>"
            ]
          },
          "metadata": {},
          "output_type": "display_data"
        }
      ],
      "source": [
        "# Run this cell without changes\n",
        "fig, ax = plt.subplots()\n",
        "ax.hist(df[\"PHYSHLTH\"], bins=\"auto\")\n",
        "ax.set_xlabel(\"PHYSHLTH\")\n",
        "ax.set_ylabel(\"Count\")\n",
        "ax.set_title(\"Distribution of PHYSHLTH in Raw Data\");"
      ]
    },
    {
      "cell_type": "markdown",
      "metadata": {
        "id": "VZ8sR8ouu2As"
      },
      "source": [
        "This feature is supposed to represent the number of days with bad physical health out of the past 30 days. Do you see anything wrong with what is displayed above? Explain."
      ]
    },
    {
      "cell_type": "code",
      "execution_count": 8,
      "metadata": {
        "colab": {
          "base_uri": "https://localhost:8080/",
          "height": 71
        },
        "id": "AyZ890lau2At",
        "outputId": "ddd4562f-2296-4193-f2e0-6504264b1e24"
      },
      "outputs": [
        {
          "data": {
            "text/plain": [
              "\"\\nThe histogram shows values that are not within the expected range of 0 to 30 days.\\nThere are values like 77, 88, 99 which are likely codes for 'Don't know/Not sure', 'Refused', and 'Not asked or Missing'.\\nThese need to be cleaned to ensure the data represents actual days of bad physical health.\\n\""
            ]
          },
          "execution_count": 8,
          "metadata": {},
          "output_type": "execute_result"
        }
      ],
      "source": [
        "# Replace None with appropriate text\n",
        "\"\"\"\n",
        "The histogram shows values that are not within the expected range of 0 to 30 days.\n",
        "There are values like 77, 88, 99 which are likely codes for 'Don't know/Not sure', 'Refused', and 'Not asked or Missing'.\n",
        "These need to be cleaned to ensure the data represents actual days of bad physical health.\n",
        "\"\"\""
      ]
    },
    {
      "cell_type": "markdown",
      "metadata": {
        "id": "TMrwWFq4u2At"
      },
      "source": [
        "Look in the data dictionary, page 17, to understand what is happening with these values. Then edit the cell below so:\n",
        "\n",
        "* The records where the `PHYSHLTH` value label is `None` are converted to 0\n",
        "* The records where the `PHYSHLTH` value label is `Number of days` are kept as-is\n",
        "* All other records are dropped (i.e. records with `Don't know/Not sure`, `Refused`, and `Not asked or Missing` value labels for `PHYSHLTH` are dropped)"
      ]
    },
    {
      "cell_type": "code",
      "execution_count": 9,
      "metadata": {
        "id": "HvS5942Ku2Au"
      },
      "outputs": [],
      "source": [
        "# Your code here\n",
        "df['PHYSHLTH'] = df['PHYSHLTH'].replace({88: 0})\n",
        "df = df[df['PHYSHLTH'] <= 30]"
      ]
    },
    {
      "cell_type": "markdown",
      "metadata": {
        "id": "p3RD9fSNu2Av"
      },
      "source": [
        "Run the code below to ensure you have the correct, cleaned dataframe:"
      ]
    },
    {
      "cell_type": "code",
      "execution_count": 10,
      "metadata": {
        "id": "Ghvk7It3u2Av"
      },
      "outputs": [],
      "source": [
        "# Run this cell without changes\n",
        "\n",
        "# We should have fewer rows, the same number of columns\n",
        "assert df.shape == (33747, 358)\n",
        "\n",
        "# The maximum value in this column should now be 30\n",
        "assert df[\"PHYSHLTH\"].max() == 30.0"
      ]
    },
    {
      "cell_type": "markdown",
      "metadata": {
        "id": "hqZNijRDu2Aw"
      },
      "source": [
        "Now we can look at the same descriptive information on our cleaned data:"
      ]
    },
    {
      "cell_type": "code",
      "execution_count": 11,
      "metadata": {
        "colab": {
          "base_uri": "https://localhost:8080/",
          "height": 335
        },
        "id": "9VirkAo_u2Aw",
        "outputId": "d199c3f1-29ab-48d6-bccb-6abd74f89168"
      },
      "outputs": [
        {
          "data": {
            "text/plain": [
              "count    33747.000000\n",
              "mean         4.085341\n",
              "std          8.513293\n",
              "min          0.000000\n",
              "25%          0.000000\n",
              "50%          0.000000\n",
              "75%          3.000000\n",
              "max         30.000000\n",
              "Name: PHYSHLTH, dtype: float64"
            ]
          },
          "execution_count": 11,
          "metadata": {},
          "output_type": "execute_result"
        }
      ],
      "source": [
        "# Run this cell without changes\n",
        "df['PHYSHLTH'].describe()"
      ]
    },
    {
      "cell_type": "code",
      "execution_count": 12,
      "metadata": {
        "colab": {
          "base_uri": "https://localhost:8080/",
          "height": 472
        },
        "id": "-yCWfmF1u2Ax",
        "outputId": "728ad76d-1e7f-4580-b8b4-a223b59c5470"
      },
      "outputs": [
        {
          "data": {
            "image/png": "[encoded data removed]",
            "text/plain": [
              "<Figure size 640x480 with 1 Axes>"
            ]
          },
          "metadata": {},
          "output_type": "display_data"
        }
      ],
      "source": [
        "# Run this cell without changes\n",
        "fig, ax = plt.subplots()\n",
        "ax.hist(df[\"PHYSHLTH\"])\n",
        "ax.set_xlabel(\"PHYSHLTH\")\n",
        "ax.set_ylabel(\"Count\")\n",
        "ax.set_title(\"Distribution of PHYSHLTH in Cleaned Data\");"
      ]
    },
    {
      "cell_type": "markdown",
      "metadata": {
        "id": "dqArMqxOu2Ax"
      },
      "source": [
        "That looks a lot more reasonable. Let's move on to the next step."
      ]
    },
    {
      "cell_type": "markdown",
      "metadata": {
        "id": "aK9hH326u2Ax"
      },
      "source": [
        "## 2. Describe the Distribution of Health Status by State\n",
        "\n",
        "As mentioned previously, this dataset only includes data from three states."
      ]
    },
    {
      "cell_type": "code",
      "execution_count": 13,
      "metadata": {
        "colab": {
          "base_uri": "https://localhost:8080/",
          "height": 210
        },
        "id": "tjQC0BROu2Ay",
        "outputId": "d2173558-dce9-4492-cdcd-68387c0f1ed2"
      },
      "outputs": [
        {
          "data": {
            "text/plain": [
              "_STATE\n",
              "36.0    11876\n",
              "34.0    11458\n",
              "9.0     10413\n",
              "Name: count, dtype: int64"
            ]
          },
          "execution_count": 13,
          "metadata": {},
          "output_type": "execute_result"
        }
      ],
      "source": [
        "# Run this cell without changes\n",
        "df[\"_STATE\"].value_counts()"
      ]
    },
    {
      "cell_type": "markdown",
      "metadata": {
        "id": "OsW2e2Hyu2Ay"
      },
      "source": [
        "Look in the data dictionary, pages 2-3, to determine which states map onto which codes. Then replace the numbers with strings representing the state names."
      ]
    },
    {
      "cell_type": "code",
      "execution_count": 14,
      "metadata": {
        "colab": {
          "base_uri": "https://localhost:8080/"
        },
        "id": "20MK_ZNKu2Az",
        "outputId": "ec089d71-59b3-42b9-d13a-ec815adc910c"
      },
      "outputs": [
        {
          "name": "stderr",
          "output_type": "stream",
          "text": [
            "C:\\Users\\HP\\AppData\\Local\\Temp\\ipykernel_20328\\2749261144.py:2: SettingWithCopyWarning: \n",
            "A value is trying to be set on a copy of a slice from a DataFrame.\n",
            "Try using .loc[row_indexer,col_indexer] = value instead\n",
            "\n",
            "See the caveats in the documentation: https://pandas.pydata.org/pandas-docs/stable/user_guide/indexing.html#returning-a-view-versus-a-copy\n",
            "  df['_STATE'] = df['_STATE'].replace({9: 'Connecticut', 34: 'New Jersey', 36: 'New York'})\n"
          ]
        }
      ],
      "source": [
        "# Your code here\n",
        "df['_STATE'] = df['_STATE'].replace({9: 'Connecticut', 34: 'New Jersey', 36: 'New York'})"
      ]
    },
    {
      "cell_type": "markdown",
      "metadata": {
        "id": "K1CzDAeMu2Az"
      },
      "source": [
        "Below, we check the values:"
      ]
    },
    {
      "cell_type": "code",
      "execution_count": 15,
      "metadata": {
        "id": "Ml7q5-LIu2Az"
      },
      "outputs": [],
      "source": [
        "# Run this cell without changes\n",
        "\n",
        "# Shape should be the same\n",
        "assert df.shape == (33747, 358)\n",
        "\n",
        "# Values in state column should be changed\n",
        "assert sorted(list(df[\"_STATE\"].value_counts().index)) == ['Connecticut', 'New Jersey', 'New York']"
      ]
    },
    {
      "cell_type": "code",
      "execution_count": 16,
      "metadata": {
        "colab": {
          "base_uri": "https://localhost:8080/",
          "height": 435
        },
        "id": "adGGt7ngu2Az",
        "outputId": "a2075722-5685-4324-b4b3-2f56e6d0ac9e"
      },
      "outputs": [
        {
          "data": {
            "image/png": "[encoded data removed]",
            "text/plain": [
              "<Figure size 1500x600 with 1 Axes>"
            ]
          },
          "metadata": {},
          "output_type": "display_data"
        }
      ],
      "source": [
        "# Run this cell without changes\n",
        "\n",
        "ny = df.loc[df[\"_STATE\"] == \"New York\", \"PHYSHLTH\"]\n",
        "nj = df.loc[df[\"_STATE\"] == \"New Jersey\", \"PHYSHLTH\"]\n",
        "ct = df.loc[df[\"_STATE\"] == \"Connecticut\", \"PHYSHLTH\"]\n",
        "\n",
        "fig, ax = plt.subplots(figsize=(15, 6))\n",
        "\n",
        "ax.hist(\n",
        "    x=[ny, nj, ct],\n",
        "    label=[\"New York\", \"New Jersey\", \"Connecticut\"],\n",
        "    bins=range(32),\n",
        "    align=\"left\"\n",
        ")\n",
        "\n",
        "ax.set_xlabel(\"PHYSHLTH\")\n",
        "ax.set_ylabel(\"Count\")\n",
        "ax.set_title(\"Distribution of PHYSHLTH by State\")\n",
        "\n",
        "ax.legend(title=\"State\");"
      ]
    },
    {
      "cell_type": "markdown",
      "metadata": {
        "id": "YVPBgwdLu2A0"
      },
      "source": [
        "Looking at the plot above, does the distribution seem to differ by state?\n",
        "\n",
        "(Just answer based on a visual inspection; we will do the statistical assessment next.)"
      ]
    },
    {
      "cell_type": "code",
      "execution_count": 17,
      "metadata": {
        "colab": {
          "base_uri": "https://localhost:8080/",
          "height": 35
        },
        "id": "MB00rMKuu2A0",
        "outputId": "59309ddf-3692-4b3c-cb9e-0cf42c6057b9"
      },
      "outputs": [
        {
          "data": {
            "text/plain": [
              "'\\nThe distributions look similar across the three states.\\n'"
            ]
          },
          "execution_count": 17,
          "metadata": {},
          "output_type": "execute_result"
        }
      ],
      "source": [
        "# Replace None with appropriate text\n",
        "\"\"\"\n",
        "The distributions look similar across the three states.\n",
        "\"\"\""
      ]
    },
    {
      "cell_type": "markdown",
      "metadata": {
        "id": "N_wG_pnau2A0"
      },
      "source": [
        "For the statistical test, we will be comparing the *means* of `PHYSHLTH` across states, as a representation of the overall distribution. In other words, when operationalizing the question **does `PHYSHLTH` differ by state?** we want to answer that in terms of the mean `PHYSHLTH`.\n",
        "\n",
        "Let's look at those means:"
      ]
    },
    {
      "cell_type": "code",
      "execution_count": 18,
      "metadata": {
        "colab": {
          "base_uri": "https://localhost:8080/",
          "height": 210
        },
        "id": "Cx3uM3UOu2A0",
        "outputId": "9aad711a-11c4-4874-bbfe-b8a57fc32098"
      },
      "outputs": [
        {
          "data": {
            "text/plain": [
              "_STATE\n",
              "Connecticut    3.688562\n",
              "New Jersey     4.380957\n",
              "New York       4.148030\n",
              "Name: PHYSHLTH, dtype: float64"
            ]
          },
          "execution_count": 18,
          "metadata": {},
          "output_type": "execute_result"
        }
      ],
      "source": [
        "# Run this cell without changes\n",
        "df.groupby(\"_STATE\")[\"PHYSHLTH\"].mean()"
      ]
    },
    {
      "cell_type": "markdown",
      "metadata": {
        "id": "gOHLuMRyu2A0"
      },
      "source": [
        "You likely noted that the overall distribution looked about the same, but these means are different. We have a range from Connecticut with about 3.7 days of bad health to New Jersey with about 4.4 days. But is that difference statistically significant?"
      ]
    },
    {
      "cell_type": "markdown",
      "metadata": {
        "id": "HNsq-Icgu2A1"
      },
      "source": [
        "Identify which of the statistical tests you have learned is the most appropriate for this question, and why. Make sure you mention what kinds of variables are being compared (numeric and categorical), and how many categories there are."
      ]
    },
    {
      "cell_type": "code",
      "execution_count": 19,
      "metadata": {
        "colab": {
          "base_uri": "https://localhost:8080/",
          "height": 89
        },
        "id": "kGQ0YRAPu2A1",
        "outputId": "45c16fdc-c85a-4a24-c7bc-ef0bd69f6e8c"
      },
      "outputs": [
        {
          "data": {
            "text/plain": [
              "'\\nThe appropriate statistical test for this question is ANOVA (Analysis of Variance).\\nThis is because we are comparing the means of a numeric variable (PHYSHLTH) across more than two categories (three states).\\nANOVA helps determine if there are any statistically significant differences between the means of three or more independent groups.\\n'"
            ]
          },
          "execution_count": 19,
          "metadata": {},
          "output_type": "execute_result"
        }
      ],
      "source": [
        "# Replace None with appropriate text\n",
        "\"\"\"\n",
        "The appropriate statistical test for this question is ANOVA (Analysis of Variance).\n",
        "This is because we are comparing the means of a numeric variable (PHYSHLTH) across more than two categories (three states).\n",
        "ANOVA helps determine if there are any statistically significant differences between the means of three or more independent groups.\n",
        "\"\"\""
      ]
    },
    {
      "cell_type": "markdown",
      "metadata": {
        "id": "2h0VM3lNu2A1"
      },
      "source": [
        "Now, identify the null and alternative hypotheses:"
      ]
    },
    {
      "cell_type": "code",
      "execution_count": 20,
      "metadata": {
        "colab": {
          "base_uri": "https://localhost:8080/",
          "height": 70
        },
        "id": "x2qb1kzXu2A1",
        "outputId": "e64345c1-d0de-4bc7-fb71-7cf26bf2b344"
      },
      "outputs": [
        {
          "data": {
            "text/plain": [
              "'\\nNull Hypothesis (H0): The mean number of unhealthy days (PHYSHLTH) is the same across all three states.\\nAlternative Hypothesis (H1): The mean number of unhealthy days (PHYSHLTH) is not the same across all three states.\\n'"
            ]
          },
          "execution_count": 20,
          "metadata": {},
          "output_type": "execute_result"
        }
      ],
      "source": [
        "# Replace None with appropriate text\n",
        "\"\"\"\n",
        "Null Hypothesis (H0): The mean number of unhealthy days (PHYSHLTH) is the same across all three states.\n",
        "Alternative Hypothesis (H1): The mean number of unhealthy days (PHYSHLTH) is not the same across all three states.\n",
        "\"\"\""
      ]
    },
    {
      "cell_type": "markdown",
      "metadata": {
        "id": "kofNaVjPu2A1"
      },
      "source": [
        "In the cell below, we set up and execute the statistical test for you. If this doesn't match your previous answer about which test to perform, look at the solution branch to understand why this is the appropriate test."
      ]
    },
    {
      "cell_type": "code",
      "execution_count": 21,
      "metadata": {
        "colab": {
          "base_uri": "https://localhost:8080/",
          "height": 186
        },
        "id": "pXuaO5o_u2A2",
        "outputId": "7594ac23-097e-4499-9bba-834e71c2e836"
      },
      "outputs": [
        {
          "data": {
            "text/html": [
              "<div>\n",
              "<style scoped>\n",
              "    .dataframe tbody tr th:only-of-type {\n",
              "        vertical-align: middle;\n",
              "    }\n",
              "\n",
              "    .dataframe tbody tr th {\n",
              "        vertical-align: top;\n",
              "    }\n",
              "\n",
              "    .dataframe thead th {\n",
              "        text-align: right;\n",
              "    }\n",
              "</style>\n",
              "<table border=\"1\" class=\"dataframe\">\n",
              "  <thead>\n",
              "    <tr style=\"text-align: right;\">\n",
              "      <th></th>\n",
              "      <th>df</th>\n",
              "      <th>sum_sq</th>\n",
              "      <th>mean_sq</th>\n",
              "      <th>F</th>\n",
              "      <th>PR(&gt;F)</th>\n",
              "    </tr>\n",
              "  </thead>\n",
              "  <tbody>\n",
              "    <tr>\n",
              "      <th>C(_STATE)</th>\n",
              "      <td>2.0</td>\n",
              "      <td>2.687322e+03</td>\n",
              "      <td>1343.660882</td>\n",
              "      <td>18.558645</td>\n",
              "      <td>8.800607e-09</td>\n",
              "    </tr>\n",
              "    <tr>\n",
              "      <th>Residual</th>\n",
              "      <td>33744.0</td>\n",
              "      <td>2.443093e+06</td>\n",
              "      <td>72.400809</td>\n",
              "      <td>NaN</td>\n",
              "      <td>NaN</td>\n",
              "    </tr>\n",
              "  </tbody>\n",
              "</table>\n",
              "</div>"
            ],
            "text/plain": [
              "                df        sum_sq      mean_sq          F        PR(>F)\n",
              "C(_STATE)      2.0  2.687322e+03  1343.660882  18.558645  8.800607e-09\n",
              "Residual   33744.0  2.443093e+06    72.400809        NaN           NaN"
            ]
          },
          "execution_count": 21,
          "metadata": {},
          "output_type": "execute_result"
        }
      ],
      "source": [
        "# Run this cell without changes\n",
        "import statsmodels.api as sm\n",
        "from statsmodels.formula.api import ols\n",
        "\n",
        "formula = 'PHYSHLTH ~ C(_STATE)'\n",
        "lm = ols(formula, df).fit()\n",
        "sm.stats.anova_lm(lm)"
      ]
    },
    {
      "cell_type": "markdown",
      "metadata": {
        "id": "yVVf8sfyu2A2"
      },
      "source": [
        "Interpret the results of this statistical test below. What is the calculated p-value? Were we able to reject the null hypothesis at an alpha of 0.05? What does this say about how `PHYSHLTH` varies by state? What recommendations would you make to the business?"
      ]
    },
    {
      "cell_type": "code",
      "execution_count": 22,
      "metadata": {
        "colab": {
          "base_uri": "https://localhost:8080/",
          "height": 107
        },
        "id": "XINyIrRwu2A2",
        "outputId": "69bca68f-a9c6-45f1-90e9-6fd32ec9e92f"
      },
      "outputs": [
        {
          "data": {
            "text/plain": [
              "'\\nThe calculated p-value is much less than 0.05, which means we reject the null hypothesis.\\nThis indicates that there is a statistically significant difference in the mean number of unhealthy days (PHYSHLTH) across the three states.\\n\\nRecommendations:\\n1. Further investigate why New Jersey has a higher average number of unhealthy days compared to Connecticut and New York.\\n2. Consider state-specific health interventions or marketing strategies to address the differences in health status.\\n'"
            ]
          },
          "execution_count": 22,
          "metadata": {},
          "output_type": "execute_result"
        }
      ],
      "source": [
        "# Replace None with appropriate text\n",
        "\"\"\"\n",
        "The calculated p-value is much less than 0.05, which means we reject the null hypothesis.\n",
        "This indicates that there is a statistically significant difference in the mean number of unhealthy days (PHYSHLTH) across the three states.\n",
        "\n",
        "Recommendations:\n",
        "1. Further investigate why New Jersey has a higher average number of unhealthy days compared to Connecticut and New York.\n",
        "2. Consider state-specific health interventions or marketing strategies to address the differences in health status.\n",
        "\"\"\""
      ]
    },
    {
      "cell_type": "markdown",
      "metadata": {
        "id": "6XuB-9pMu2A2"
      },
      "source": [
        "With that section wrapped up, let's move on to the next step."
      ]
    },
    {
      "cell_type": "markdown",
      "metadata": {
        "id": "Ma3q0oEIu2A3"
      },
      "source": [
        "## 3. Describe the Relationship between Health Status and Home Ownership Status\n",
        "\n",
        "This time, we want to categorize respondents by demographic information: specifically, we'll look at whether or not they own their home.\n",
        "\n",
        "Once again, this will require some data preparation. The variable of interest is contained in the `RENTHOM1` column. Currently the values look like this:"
      ]
    },
    {
      "cell_type": "code",
      "execution_count": 23,
      "metadata": {
        "colab": {
          "base_uri": "https://localhost:8080/",
          "height": 272
        },
        "id": "WI4QT-Wmu2A3",
        "outputId": "0da4db1e-83f6-4203-9c8e-d4900731a960"
      },
      "outputs": [
        {
          "data": {
            "text/plain": [
              "RENTHOM1\n",
              "1.0    21690\n",
              "2.0    10244\n",
              "3.0     1526\n",
              "9.0      194\n",
              "7.0       93\n",
              "Name: count, dtype: int64"
            ]
          },
          "execution_count": 23,
          "metadata": {},
          "output_type": "execute_result"
        }
      ],
      "source": [
        "# Run this cell without changes\n",
        "df[\"RENTHOM1\"].value_counts()"
      ]
    },
    {
      "cell_type": "markdown",
      "metadata": {
        "id": "jLmbsIzOu2A3"
      },
      "source": [
        "In the cell below, modify `df` so that we have dropped all records where the `RENTHOM1` value label is neither `Own` nor `Rent`, and we have replaced the numeric codes with `Own` and `Rent` respectively. You can find more information about codes on page 33 of the data dictionary."
      ]
    },
    {
      "cell_type": "code",
      "execution_count": 24,
      "metadata": {
        "colab": {
          "base_uri": "https://localhost:8080/"
        },
        "id": "s0zt_jZgu2A3",
        "outputId": "642715fa-f9cd-483d-9459-07f04b3636f3"
      },
      "outputs": [
        {
          "name": "stderr",
          "output_type": "stream",
          "text": [
            "C:\\Users\\HP\\AppData\\Local\\Temp\\ipykernel_20328\\1648520785.py:3: SettingWithCopyWarning: \n",
            "A value is trying to be set on a copy of a slice from a DataFrame.\n",
            "Try using .loc[row_indexer,col_indexer] = value instead\n",
            "\n",
            "See the caveats in the documentation: https://pandas.pydata.org/pandas-docs/stable/user_guide/indexing.html#returning-a-view-versus-a-copy\n",
            "  df['RENTHOM1'] = df['RENTHOM1'].replace({1: 'Own', 2: 'Rent'})\n"
          ]
        }
      ],
      "source": [
        "# Your code here\n",
        "df = df[df['RENTHOM1'].isin([1, 2])]\n",
        "df['RENTHOM1'] = df['RENTHOM1'].replace({1: 'Own', 2: 'Rent'})"
      ]
    },
    {
      "cell_type": "code",
      "execution_count": 25,
      "metadata": {
        "colab": {
          "base_uri": "https://localhost:8080/",
          "height": 178
        },
        "id": "pYBShS1au2A3",
        "outputId": "69e6a55a-1def-4465-9970-ffa353a14c83"
      },
      "outputs": [
        {
          "data": {
            "text/plain": [
              "RENTHOM1\n",
              "Own     21690\n",
              "Rent    10244\n",
              "Name: count, dtype: int64"
            ]
          },
          "execution_count": 25,
          "metadata": {},
          "output_type": "execute_result"
        }
      ],
      "source": [
        "# Run this cell without changes\n",
        "df[\"RENTHOM1\"].value_counts()"
      ]
    },
    {
      "cell_type": "markdown",
      "metadata": {
        "id": "iTyxSH-Mu2A4"
      },
      "source": [
        "Below, we check that this was done correctly:"
      ]
    },
    {
      "cell_type": "code",
      "execution_count": 26,
      "metadata": {
        "id": "nMAQsHgIu2A4"
      },
      "outputs": [],
      "source": [
        "# Run this cell without changes\n",
        "\n",
        "# Number of rows should be smaller again\n",
        "assert df.shape == (31934, 358)\n",
        "\n",
        "# Only two values should be present in this column\n",
        "assert sorted(list(df[\"RENTHOM1\"].value_counts().index)) == ['Own', 'Rent']"
      ]
    },
    {
      "cell_type": "markdown",
      "metadata": {
        "id": "rkZxWU7Bu2A4"
      },
      "source": [
        "Now, similar to the previous step, create a plot that shows the distribution of `PHYSHLTH` for those who own vs. rent their homes, including appropriate axis labels and legend. Because there is more of an imbalance of categories this time (more than twice as many owners as renters, compared to nearly-even numbers from New York, New Jersey, and Connecticut), make sure you add the argument `density=True`, so that the y-axis shows the density (proportion) rather than the count."
      ]
    },
    {
      "cell_type": "code",
      "execution_count": 27,
      "metadata": {
        "colab": {
          "base_uri": "https://localhost:8080/",
          "height": 564
        },
        "id": "jn7_CnF6u2A4",
        "outputId": "ec8fa9d4-ea21-4605-d027-79bb8a8cb52d"
      },
      "outputs": [
        {
          "data": {
            "image/png": "[encoded data removed]",
            "text/plain": [
              "<Figure size 1000x600 with 1 Axes>"
            ]
          },
          "metadata": {},
          "output_type": "display_data"
        }
      ],
      "source": [
        "# Your code here\n",
        "own = df.loc[df[\"RENTHOM1\"] == \"Own\", \"PHYSHLTH\"]\n",
        "rent = df.loc[df[\"RENTHOM1\"] == \"Rent\", \"PHYSHLTH\"]\n",
        "\n",
        "fig, ax = plt.subplots(figsize=(10, 6))\n",
        "\n",
        "ax.hist(\n",
        "    x=[own, rent],\n",
        "    label=[\"Own\", \"Rent\"],\n",
        "    bins=range(32),\n",
        "    align=\"left\",\n",
        "    density=True\n",
        ")\n",
        "\n",
        "ax.set_xlabel(\"PHYSHLTH\")\n",
        "ax.set_ylabel(\"Density\")\n",
        "ax.set_title(\"Distribution of PHYSHLTH by Home Ownership Status\")\n",
        "\n",
        "ax.legend(title=\"Home Ownership\");"
      ]
    },
    {
      "cell_type": "markdown",
      "metadata": {
        "id": "_ZPJ3gDRu2A5"
      },
      "source": [
        "Then run this code to find the averages:"
      ]
    },
    {
      "cell_type": "code",
      "execution_count": 28,
      "metadata": {
        "colab": {
          "base_uri": "https://localhost:8080/",
          "height": 178
        },
        "id": "t-FTAjCJu2A5",
        "outputId": "144d59c4-535b-4182-990d-e529ccbcae95"
      },
      "outputs": [
        {
          "data": {
            "text/plain": [
              "RENTHOM1\n",
              "Own     3.531213\n",
              "Rent    5.197970\n",
              "Name: PHYSHLTH, dtype: float64"
            ]
          },
          "execution_count": 28,
          "metadata": {},
          "output_type": "execute_result"
        }
      ],
      "source": [
        "# Run this cell without changes\n",
        "df.groupby(\"RENTHOM1\")[\"PHYSHLTH\"].mean()"
      ]
    },
    {
      "cell_type": "markdown",
      "metadata": {
        "id": "R4rU5elBu2A5"
      },
      "source": [
        "Now, interpret the plot and averages. Does it seem like there a difference in the number of unhealthy days between those who rent their homes and those who own their homes? How does this compare to the distributions by state?"
      ]
    },
    {
      "cell_type": "code",
      "execution_count": 29,
      "metadata": {
        "colab": {
          "base_uri": "https://localhost:8080/",
          "height": 71
        },
        "id": "ErzTeJLYu2A6",
        "outputId": "46adc2c2-d075-4bda-e991-fb0c6f01c280"
      },
      "outputs": [
        {
          "data": {
            "text/plain": [
              "'\\nThe plot and averages suggest that renters have a higher average number of unhealthy days (PHYSHLTH) compared to homeowners.\\nThis difference is more pronounced than the differences observed between states.\\nRenters may face more stressors or have less access to healthcare, which could contribute to this disparity.\\n'"
            ]
          },
          "execution_count": 29,
          "metadata": {},
          "output_type": "execute_result"
        }
      ],
      "source": [
        "# Replace None with appropriate text\n",
        "\"\"\"\n",
        "The plot and averages suggest that renters have a higher average number of unhealthy days (PHYSHLTH) compared to homeowners.\n",
        "This difference is more pronounced than the differences observed between states.\n",
        "Renters may face more stressors or have less access to healthcare, which could contribute to this disparity.\n",
        "\"\"\""
      ]
    },
    {
      "cell_type": "markdown",
      "metadata": {
        "id": "PEaCnLsmu2A6"
      },
      "source": [
        "Now, choose and execute an appropriate statistical test. Make sure you describe why you chose the test, the null and alternative hypotheses, and what the result of the test means."
      ]
    },
    {
      "cell_type": "code",
      "execution_count": 30,
      "metadata": {
        "colab": {
          "base_uri": "https://localhost:8080/"
        },
        "id": "KFI5oxjxu2A6",
        "outputId": "687fd7b4-353a-4d99-e458-ae88033ca32f"
      },
      "outputs": [
        {
          "name": "stdout",
          "output_type": "stream",
          "text": [
            "T-statistic: -16.435805439672, P-value: 1.878839256394904e-60\n"
          ]
        }
      ],
      "source": [
        "# Your code here (create additional cells as needed)\n",
        "from scipy.stats import ttest_ind\n",
        "\n",
        "# Perform t-test\n",
        "t_stat, p_value = ttest_ind(own, rent)\n",
        "\n",
        "print(f\"T-statistic: {t_stat}, P-value: {p_value}\")"
      ]
    },
    {
      "cell_type": "code",
      "execution_count": 31,
      "metadata": {
        "colab": {
          "base_uri": "https://localhost:8080/",
          "height": 142
        },
        "id": "AGBCbsg_2eLY",
        "outputId": "32f2a84e-7644-4aa2-d87b-6757dda8295b"
      },
      "outputs": [
        {
          "data": {
            "text/plain": [
              "'\\nThe appropriate statistical test for this question is the independent t-test. This is because we are comparing the means of a numeric variable (PHYSHLTH) between two independent categories (homeowners and renters).\\n\\nNull Hypothesis (H0): The mean number of unhealthy days (PHYSHLTH) is the same for homeowners and renters.\\nAlternative Hypothesis (H1): The mean number of unhealthy days (PHYSHLTH) is not the same for homeowners and renters.\\n\\nThe p-value is much less than 0.05, so we reject the null hypothesis. This indicates that there is a statistically significant difference in the mean number of unhealthy days between homeowners and renters. Renters have a higher average number of unhealthy days compared to homeowners.\\n'"
            ]
          },
          "execution_count": 31,
          "metadata": {},
          "output_type": "execute_result"
        }
      ],
      "source": [
        "\"\"\"\n",
        "The appropriate statistical test for this question is the independent t-test. This is because we are comparing the means of a numeric variable (PHYSHLTH) between two independent categories (homeowners and renters).\n",
        "\n",
        "Null Hypothesis (H0): The mean number of unhealthy days (PHYSHLTH) is the same for homeowners and renters.\n",
        "Alternative Hypothesis (H1): The mean number of unhealthy days (PHYSHLTH) is not the same for homeowners and renters.\n",
        "\n",
        "The p-value is much less than 0.05, so we reject the null hypothesis. This indicates that there is a statistically significant difference in the mean number of unhealthy days between homeowners and renters. Renters have a higher average number of unhealthy days compared to homeowners.\n",
        "\"\"\""
      ]
    },
    {
      "cell_type": "markdown",
      "metadata": {
        "id": "AOIBciyDu2A6"
      },
      "source": [
        "## 4. Describe the Relationship between Chronic Sickness and Nicotine Use\n",
        "\n",
        "Once again, this will require some preparation before we can run the statistical test. Create a new column `NICOTINE_USE` with 1 representing someone who uses or has used nicotine in some form, and 0 representing someone who hasn't.\n",
        "\n",
        "We define nicotine use as:\n",
        "\n",
        "* Answered `Yes` to the `SMOKE100` question (*Have you smoked at least 100 cigarettes in your entire life?*, page 43), OR\n",
        "* Answered `Every day` or `Some days` to the `USENOW3` question (*Do you currently use chewing tobacco, snuff, or snus every day, some days, or not at all?*, page 46), OR\n",
        "* Answered `Yes` to the `ECIGARET` question (*Have you ever used an e-cigarette or other electronic vaping product, even just one time, in your entire life?*, page 46)\n",
        "\n",
        "If a record matches one or more of the above criteria, `NICOTINE_USE` should be 1. Otherwise, `NICOTINE_USE` should be 0. Go ahead and keep all of the \"Don't know\" or \"Refused\" answers as 0."
      ]
    },
    {
      "cell_type": "code",
      "execution_count": 32,
      "metadata": {
        "colab": {
          "base_uri": "https://localhost:8080/",
          "height": 305
        },
        "id": "UIQcDk17u2A6",
        "outputId": "561779cb-604e-47fa-f10c-c60e9f0a5a1d"
      },
      "outputs": [
        {
          "name": "stderr",
          "output_type": "stream",
          "text": [
            "C:\\Users\\HP\\AppData\\Local\\Temp\\ipykernel_20328\\1543713041.py:2: SettingWithCopyWarning: \n",
            "A value is trying to be set on a copy of a slice from a DataFrame.\n",
            "Try using .loc[row_indexer,col_indexer] = value instead\n",
            "\n",
            "See the caveats in the documentation: https://pandas.pydata.org/pandas-docs/stable/user_guide/indexing.html#returning-a-view-versus-a-copy\n",
            "  df['NICOTINE_USE'] = np.where(\n"
          ]
        },
        {
          "data": {
            "text/plain": [
              "NICOTINE_USE\n",
              "0    0.563036\n",
              "1    0.436964\n",
              "Name: proportion, dtype: float64"
            ]
          },
          "execution_count": 32,
          "metadata": {},
          "output_type": "execute_result"
        }
      ],
      "source": [
        "# Your code here\n",
        "df['NICOTINE_USE'] = np.where(\n",
        "    (df['SMOKE100'] == 1) |\n",
        "    (df['USENOW3'].isin([1, 2])) |\n",
        "    (df['ECIGARET'] == 1),\n",
        "    1,\n",
        "    0\n",
        ")\n",
        "\n",
        "# Look at the distribution of values\n",
        "df[\"NICOTINE_USE\"].value_counts(normalize=True)"
      ]
    },
    {
      "cell_type": "markdown",
      "metadata": {
        "id": "ydCGvjTUu2A6"
      },
      "source": [
        "This time, let's treat health status as a categorical variable. We'll say that a \"chronically sick\" person is a person who reports that their physical health was not good for 15 or more out of the past 30 days. (This is a simplification but it will work for this analysis.)\n",
        "\n",
        "In the cell below, create a new column of `df` called `CHRONIC`, which is 0 for records where `PHYSHLTH` is less than 15, and 1 for records where `PHYSHLTH` is 15 or more."
      ]
    },
    {
      "cell_type": "code",
      "execution_count": 33,
      "metadata": {
        "colab": {
          "base_uri": "https://localhost:8080/",
          "height": 305
        },
        "id": "7ZHskVGFu2A6",
        "outputId": "7e44c46f-d831-4b36-9f1c-07e682f6279b"
      },
      "outputs": [
        {
          "name": "stderr",
          "output_type": "stream",
          "text": [
            "C:\\Users\\HP\\AppData\\Local\\Temp\\ipykernel_20328\\3605066929.py:2: SettingWithCopyWarning: \n",
            "A value is trying to be set on a copy of a slice from a DataFrame.\n",
            "Try using .loc[row_indexer,col_indexer] = value instead\n",
            "\n",
            "See the caveats in the documentation: https://pandas.pydata.org/pandas-docs/stable/user_guide/indexing.html#returning-a-view-versus-a-copy\n",
            "  df['CHRONIC'] = np.where(df['PHYSHLTH'] >= 15, 1, 0)\n"
          ]
        },
        {
          "data": {
            "text/plain": [
              "CHRONIC\n",
              "0    28246\n",
              "1     3688\n",
              "Name: count, dtype: int64"
            ]
          },
          "execution_count": 33,
          "metadata": {},
          "output_type": "execute_result"
        }
      ],
      "source": [
        "# Your code here\n",
        "df['CHRONIC'] = np.where(df['PHYSHLTH'] >= 15, 1, 0)\n",
        "\n",
        "# View the distribution of the newly-created column\n",
        "df[\"CHRONIC\"].value_counts()"
      ]
    },
    {
      "cell_type": "markdown",
      "metadata": {
        "id": "8piBoQ-gu2A7"
      },
      "source": [
        "Now we can view the crosstabs for these two categorical variables, as well as display their distributions:"
      ]
    },
    {
      "cell_type": "code",
      "execution_count": 34,
      "metadata": {
        "colab": {
          "base_uri": "https://localhost:8080/",
          "height": 143
        },
        "id": "G5X6mr57u2A7",
        "outputId": "1d018c02-6116-422d-8de9-0f36074b6dd2"
      },
      "outputs": [
        {
          "data": {
            "text/html": [
              "<div>\n",
              "<style scoped>\n",
              "    .dataframe tbody tr th:only-of-type {\n",
              "        vertical-align: middle;\n",
              "    }\n",
              "\n",
              "    .dataframe tbody tr th {\n",
              "        vertical-align: top;\n",
              "    }\n",
              "\n",
              "    .dataframe thead th {\n",
              "        text-align: right;\n",
              "    }\n",
              "</style>\n",
              "<table border=\"1\" class=\"dataframe\">\n",
              "  <thead>\n",
              "    <tr style=\"text-align: right;\">\n",
              "      <th>NICOTINE_USE</th>\n",
              "      <th>0</th>\n",
              "      <th>1</th>\n",
              "    </tr>\n",
              "    <tr>\n",
              "      <th>CHRONIC</th>\n",
              "      <th></th>\n",
              "      <th></th>\n",
              "    </tr>\n",
              "  </thead>\n",
              "  <tbody>\n",
              "    <tr>\n",
              "      <th>0</th>\n",
              "      <td>16332</td>\n",
              "      <td>11914</td>\n",
              "    </tr>\n",
              "    <tr>\n",
              "      <th>1</th>\n",
              "      <td>1648</td>\n",
              "      <td>2040</td>\n",
              "    </tr>\n",
              "  </tbody>\n",
              "</table>\n",
              "</div>"
            ],
            "text/plain": [
              "NICOTINE_USE      0      1\n",
              "CHRONIC                   \n",
              "0             16332  11914\n",
              "1              1648   2040"
            ]
          },
          "execution_count": 34,
          "metadata": {},
          "output_type": "execute_result"
        }
      ],
      "source": [
        "# Run this cell without changes\n",
        "contingency_table = pd.crosstab(index=df[\"CHRONIC\"], columns=df[\"NICOTINE_USE\"])\n",
        "contingency_table"
      ]
    },
    {
      "cell_type": "code",
      "execution_count": 35,
      "metadata": {
        "colab": {
          "base_uri": "https://localhost:8080/",
          "height": 452
        },
        "id": "7pZdtrTru2A7",
        "outputId": "95584a5b-5826-47b4-acaf-ea5fef6fb2db"
      },
      "outputs": [
        {
          "data": {
            "image/png": "[encoded data removed]",
            "text/plain": [
              "<Figure size 640x480 with 1 Axes>"
            ]
          },
          "metadata": {},
          "output_type": "display_data"
        }
      ],
      "source": [
        "# Run this cell without changes\n",
        "\n",
        "no_nicotine_use = df.loc[df[\"NICOTINE_USE\"] == 0, \"CHRONIC\"]\n",
        "nicotine_use = df.loc[df[\"NICOTINE_USE\"] == 1, \"CHRONIC\"]\n",
        "\n",
        "fig, ax = plt.subplots()\n",
        "\n",
        "ax.hist(\n",
        "    x=[no_nicotine_use, nicotine_use],\n",
        "    label=[\"No Nicotine Use\", \"Nicotine Use\"],\n",
        "    bins=[0,1,2],\n",
        "    align=\"left\"\n",
        ")\n",
        "\n",
        "ax.set_ylabel(\"Count\")\n",
        "ax.set_xticks([0,1])\n",
        "ax.set_xticklabels([\"Not Chronically Sick\", \"Chronically Sick\"])\n",
        "ax.set_title(\"Distribution of Chronic Sickness by Nicotine Use\")\n",
        "\n",
        "ax.legend();"
      ]
    },
    {
      "cell_type": "markdown",
      "metadata": {
        "id": "M6C-NRN4u2A7"
      },
      "source": [
        "Once again, it appears that there is a difference in health outcomes between these categories. In the cell below, select an appropriate statistical test, describe the null and alternative hypotheses, execute the test, and interpret the result."
      ]
    },
    {
      "cell_type": "code",
      "execution_count": 36,
      "metadata": {
        "colab": {
          "base_uri": "https://localhost:8080/"
        },
        "id": "jlw1enUAu2A8",
        "outputId": "d3346ebb-f84b-4c04-b41d-b865b684bfe5"
      },
      "outputs": [
        {
          "name": "stdout",
          "output_type": "stream",
          "text": [
            "Chi2: 228.22648537455362, P-value: 1.4525226945056695e-51\n"
          ]
        }
      ],
      "source": [
        "# Your code here (create additional cells as needed)\n",
        "from scipy.stats import chi2_contingency\n",
        "\n",
        "# Perform chi-squared test\n",
        "chi2, p, dof, expected = chi2_contingency(contingency_table)\n",
        "\n",
        "print(f\"Chi2: {chi2}, P-value: {p}\")"
      ]
    },
    {
      "cell_type": "code",
      "execution_count": 37,
      "metadata": {
        "colab": {
          "base_uri": "https://localhost:8080/",
          "height": 125
        },
        "id": "PRctLy9Y4bwT",
        "outputId": "382d2287-c79f-4a34-bcd5-1b1b76b1f165"
      },
      "outputs": [
        {
          "data": {
            "text/plain": [
              "'\\nThe appropriate statistical test for this question is the chi-squared test for independence. This is because we are comparing two categorical variables (chronic sickness and nicotine use) to determine if they are independent.\\n\\nNull Hypothesis (H0): Chronic sickness and nicotine use are independent.\\nAlternative Hypothesis (H1): Chronic sickness and nicotine use are not independent.\\n\\nThe p-value is much less than 0.05, so we reject the null hypothesis. This indicates that there is a statistically significant association between chronic sickness and nicotine use. Nicotine users are more likely to be chronically sick compared to non-users.\\n'"
            ]
          },
          "execution_count": 37,
          "metadata": {},
          "output_type": "execute_result"
        }
      ],
      "source": [
        "\"\"\"\n",
        "The appropriate statistical test for this question is the chi-squared test for independence. This is because we are comparing two categorical variables (chronic sickness and nicotine use) to determine if they are independent.\n",
        "\n",
        "Null Hypothesis (H0): Chronic sickness and nicotine use are independent.\n",
        "Alternative Hypothesis (H1): Chronic sickness and nicotine use are not independent.\n",
        "\n",
        "The p-value is much less than 0.05, so we reject the null hypothesis. This indicates that there is a statistically significant association between chronic sickness and nicotine use. Nicotine users are more likely to be chronically sick compared to non-users.\n",
        "\"\"\""
      ]
    },
    {
      "cell_type": "markdown",
      "metadata": {
        "id": "kyMdPZN_u2A8"
      },
      "source": [
        "## 5. Choose Your Own Question\n",
        "\n",
        "Now that you have investigated physical health and chronic sickness and their relationships with state, home ownership, and nicotine use, you will conduct a similar investigation with variables of your choosing.\n",
        "\n",
        "Select an independent variable based on looking at the information in the data dictionary, and perform any additional transformations needed to use it in an analysis. Then set up, execute, and interpret a statistical test that addresses the relationship between that independent variable and `PHYSHLTH`.\n",
        "\n",
        "(There is no solution branch for this question, and feel free to move on if you have already spent more than 1.5 hours on this lab.)"
      ]
    },
    {
      "cell_type": "code",
      "execution_count": 38,
      "metadata": {
        "colab": {
          "base_uri": "https://localhost:8080/",
          "height": 709
        },
        "id": "LfVjbxC2u2A8",
        "outputId": "95f15781-0671-49b4-8490-81dce224e991"
      },
      "outputs": [
        {
          "name": "stderr",
          "output_type": "stream",
          "text": [
            "C:\\Users\\HP\\AppData\\Local\\Temp\\ipykernel_20328\\3542450852.py:5: SettingWithCopyWarning: \n",
            "A value is trying to be set on a copy of a slice from a DataFrame.\n",
            "Try using .loc[row_indexer,col_indexer] = value instead\n",
            "\n",
            "See the caveats in the documentation: https://pandas.pydata.org/pandas-docs/stable/user_guide/indexing.html#returning-a-view-versus-a-copy\n",
            "  df['EXERANY2'] = df['EXERANY2'].replace({1: 'Yes', 2: 'No', 7: np.nan, 9: np.nan})\n"
          ]
        },
        {
          "name": "stdout",
          "output_type": "stream",
          "text": [
            "T-statistic: -33.18069708616306, P-value: 5.223843111217937e-237\n"
          ]
        },
        {
          "data": {
            "image/png": "[encoded data removed]",
            "text/plain": [
              "<Figure size 1000x600 with 1 Axes>"
            ]
          },
          "metadata": {},
          "output_type": "display_data"
        }
      ],
      "source": [
        "# Your code here (create additional cells as needed)\n",
        "#Investigating the relationship between exercise and health status\n",
        "\n",
        "# Clean the exercise data\n",
        "df['EXERANY2'] = df['EXERANY2'].replace({1: 'Yes', 2: 'No', 7: np.nan, 9: np.nan})\n",
        "df = df.dropna(subset=['EXERANY2'])\n",
        "\n",
        "# Plot the distribution\n",
        "exercise = df.loc[df[\"EXERANY2\"] == \"Yes\", \"PHYSHLTH\"]\n",
        "no_exercise = df.loc[df[\"EXERANY2\"] == \"No\", \"PHYSHLTH\"]\n",
        "\n",
        "fig, ax = plt.subplots(figsize=(10, 6))\n",
        "\n",
        "ax.hist(\n",
        "    x=[exercise, no_exercise],\n",
        "    label=[\"Exercise\", \"No Exercise\"],\n",
        "    bins=range(32),\n",
        "    align=\"left\",\n",
        "    density=True\n",
        ")\n",
        "\n",
        "ax.set_xlabel(\"PHYSHLTH\")\n",
        "ax.set_ylabel(\"Density\")\n",
        "ax.set_title(\"Distribution of PHYSHLTH by Exercise Status\")\n",
        "\n",
        "ax.legend(title=\"Exercise Status\");\n",
        "\n",
        "# Perform t-test\n",
        "t_stat, p_value = ttest_ind(exercise, no_exercise)\n",
        "\n",
        "print(f\"T-statistic: {t_stat}, P-value: {p_value}\")"
      ]
    },
    {
      "cell_type": "code",
      "execution_count": 39,
      "metadata": {
        "colab": {
          "base_uri": "https://localhost:8080/",
          "height": 160
        },
        "id": "xVGdQsoR42Cf",
        "outputId": "a2d134ee-f9d1-4274-f1c3-9751eb14265d"
      },
      "outputs": [
        {
          "data": {
            "text/plain": [
              "'\\nThe appropriate statistical test for this question is the independent t-test.\\nThis is because we are comparing the means of a numeric variable (PHYSHLTH) between two independent categories (those who exercise and those who do not).\\n\\nNull Hypothesis (H0): The mean number of unhealthy days (PHYSHLTH) is the same for those who exercise and those who do not.\\nAlternative Hypothesis (H1): The mean number of unhealthy days (PHYSHLTH) is not the same for those who exercise and those who do not.\\n\\nThe p-value is much less than 0.05, so we reject the null hypothesis.\\nThis indicates that there is a statistically significant difference in the mean number of unhealthy days between those who exercise and those who do not.\\nThose who exercise have a lower average number of unhealthy days compared to those who do not exercise.\\n'"
            ]
          },
          "execution_count": 39,
          "metadata": {},
          "output_type": "execute_result"
        }
      ],
      "source": [
        "\"\"\"\n",
        "The appropriate statistical test for this question is the independent t-test.\n",
        "This is because we are comparing the means of a numeric variable (PHYSHLTH) between two independent categories (those who exercise and those who do not).\n",
        "\n",
        "Null Hypothesis (H0): The mean number of unhealthy days (PHYSHLTH) is the same for those who exercise and those who do not.\n",
        "Alternative Hypothesis (H1): The mean number of unhealthy days (PHYSHLTH) is not the same for those who exercise and those who do not.\n",
        "\n",
        "The p-value is much less than 0.05, so we reject the null hypothesis.\n",
        "This indicates that there is a statistically significant difference in the mean number of unhealthy days between those who exercise and those who do not.\n",
        "Those who exercise have a lower average number of unhealthy days compared to those who do not exercise.\n",
        "\"\"\""
      ]
    },
    {
      "cell_type": "markdown",
      "metadata": {
        "id": "TVQTOcsuu2A8"
      },
      "source": [
        "## Conclusion\n",
        "\n",
        "Congratulations, another cumulative lab down! In this lab you practiced reading a data dictionary, performing various data transformations with pandas, and executing statistical tests to address business questions."
      ]
    }
  ],
  "metadata": {
    "colab": {
      "provenance": []
    },
    "kernelspec": {
      "display_name": "Python 3",
      "language": "python",
      "name": "python3"
    },
    "language_info": {
      "codemirror_mode": {
        "name": "ipython",
        "version": 3
      },
      "file_extension": ".py",
      "mimetype": "text/x-python",
      "name": "python",
      "nbconvert_exporter": "python",
      "pygments_lexer": "ipython3",
      "version": "3.12.4 | packaged by Anaconda, Inc. | (main, Jun 18 2024, 15:03:56) [MSC v.1929 64 bit (AMD64)]"
    },
    "vscode": {
      "interpreter": {
        "hash": "dc07d24e2f18896857f0b2a651fe84ba40ce7b297e58d8804a308c8039f752a6"
      }
    }
  },
  "nbformat": 4,
  "nbformat_minor": 0
}
